{
 "cells": [
  {
   "cell_type": "code",
   "execution_count": 1,
   "id": "8b89cb7e",
   "metadata": {},
   "outputs": [],
   "source": [
    "import matplotlib.pyplot as plt\n",
    "import numpy as np\n",
    "import csv\n",
    "from pathlib import Path\n",
    "import seaborn as sns\n",
    "import pandas as pd"
   ]
  },
  {
   "cell_type": "code",
   "execution_count": 2,
   "id": "64f4347a",
   "metadata": {},
   "outputs": [],
   "source": [
    "from matplotlib import rc\n",
    "rc('text', usetex=True)\n",
    "rc('font', serif='Times')"
   ]
  },
  {
   "cell_type": "code",
   "execution_count": 3,
   "id": "6be139fb",
   "metadata": {},
   "outputs": [],
   "source": [
    "name = ''\n",
    "name += '_cpc'\n",
    "name += '_alexnet'\n",
    "name += f'_{\"1\"}'"
   ]
  },
  {
   "cell_type": "code",
   "execution_count": 4,
   "id": "ea8f7b68",
   "metadata": {},
   "outputs": [],
   "source": [
    "def readSimilarity(fn, column_name):\n",
    "    \n",
    "    val = []\n",
    "    \n",
    "    with open(fn, 'r') as file:\n",
    "        csvreader = csv.reader(file)\n",
    "        for n, row in enumerate(csvreader):\n",
    "            if n == 0:\n",
    "                ind = np.where(np.asarray(row) == column_name)[0][0]\n",
    "            else:\n",
    "                val.append(float(row[ind]))\n",
    "                \n",
    "    return val"
   ]
  },
  {
   "cell_type": "code",
   "execution_count": 5,
   "id": "84fcd416",
   "metadata": {},
   "outputs": [],
   "source": [
    "palette = {}\n",
    "data = []"
   ]
  },
  {
   "cell_type": "code",
   "execution_count": 6,
   "id": "c234c881",
   "metadata": {},
   "outputs": [],
   "source": [
    "# seen matched\n",
    "label_name = r'A'\n",
    "palette[label_name] = '#7353ba'\n",
    "seen_matched = readSimilarity(Path(f'familiar_analysis{name}.csv'), 'similarity_A')\n",
    "data = [[label_name, v] for v in seen_matched]"
   ]
  },
  {
   "cell_type": "code",
   "execution_count": 7,
   "id": "0325ba5a",
   "metadata": {},
   "outputs": [],
   "source": [
    "# seen mismatched\n",
    "label_name = r'B'\n",
    "palette[label_name] = '#edc531'\n",
    "seen_mismatched = readSimilarity(Path(f'familiar_mismatched_analysis{name}.csv'), 'similarity_A')\n",
    "data.extend([[label_name, v] for v in seen_mismatched])"
   ]
  },
  {
   "cell_type": "code",
   "execution_count": 8,
   "id": "9d1ef341-2869-4226-8f32-b7c58918afeb",
   "metadata": {},
   "outputs": [
    {
     "data": {
      "text/plain": [
       "\"\\n# Seen mismatched (alternative)\\nlabel_name = r'Familiar audio -- familiar$^*$ image'\\npalette[label_name] = 'tab:red'\\nseen_mismatched = readSimilarity(Path(f'familiar_analysis{name}.csv'), 'similarity_B')\\ndata.extend([[label_name, v] for v in seen_mismatched])\\n\""
      ]
     },
     "execution_count": 8,
     "metadata": {},
     "output_type": "execute_result"
    }
   ],
   "source": [
    "\"\"\"\n",
    "# Seen mismatched (alternative)\n",
    "label_name = r'Familiar audio -- familiar$^*$ image'\n",
    "palette[label_name] = 'tab:red'\n",
    "seen_mismatched = readSimilarity(Path(f'familiar_analysis{name}.csv'), 'similarity_B')\n",
    "data.extend([[label_name, v] for v in seen_mismatched])\n",
    "\"\"\""
   ]
  },
  {
   "cell_type": "code",
   "execution_count": 9,
   "id": "24915224",
   "metadata": {},
   "outputs": [],
   "source": [
    "# unseen->unseen\n",
    "label_name = r'C'\n",
    "palette[label_name] = '#629460'\n",
    "unseen_to_unseen = readSimilarity(Path(f'me_analysis{name}.csv'), 'similarity_A')\n",
    "data.extend([[label_name, v] for v in unseen_to_unseen])\n",
    "mismatched_unseen_to_unseen = readSimilarity(Path(f'me_mismatched_analysis{name}.csv'), 'similarity_A')\n",
    "data.extend([[label_name, v] for v in mismatched_unseen_to_unseen])"
   ]
  },
  {
   "cell_type": "code",
   "execution_count": 10,
   "id": "2dc66941",
   "metadata": {},
   "outputs": [],
   "source": [
    "# unseen->seen\n",
    "label_name = r'D'\n",
    "palette[label_name] = '#4a8fe7'\n",
    "unseen_to_seen = readSimilarity(Path(f'me_analysis{name}.csv'), 'similarity_B')\n",
    "data.extend([[label_name, v]  for v in unseen_to_seen])\n",
    "mismatched_unseen_to_seen = readSimilarity(Path(f'me_mismatched_analysis{name}.csv'), 'similarity_B')\n",
    "data.extend([[label_name, v] for v in mismatched_unseen_to_seen])"
   ]
  },
  {
   "cell_type": "code",
   "execution_count": 11,
   "id": "512686d9",
   "metadata": {},
   "outputs": [],
   "source": [
    "df = pd.DataFrame(data, columns=[\"label\", \"Similarity score\"])"
   ]
  },
  {
   "cell_type": "code",
   "execution_count": 12,
   "id": "586ae321",
   "metadata": {},
   "outputs": [],
   "source": [
    "# fig = plt.figure(figsize=(15, 5))\n",
    "# sns.set_style(style='white')\n",
    "# f = sns.kdeplot(\n",
    "#     df, x=\"Similarity score\", hue=\"label\", common_norm=False, legend=True, linewidth=2.5, \n",
    "#     palette=palette, log_scale=False,\n",
    "# )\n",
    "\n",
    "# lss = [':', '-', ':', '-']\n",
    "\n",
    "# handles = f.legend_.legendHandles[::-1]\n",
    "\n",
    "# for line, ls, handle in zip(f.lines, lss, handles):\n",
    "#     line.set_linestyle(ls)\n",
    "#     handle.set_ls(ls)\n",
    "    \n",
    "# subs = f.lines\n",
    "# nums = ['D', 'C', 'B', 'A']\n",
    "# for i in range(len(subs)):\n",
    "#     x = subs[i].get_xdata() \n",
    "#     y = subs[i].get_ydata() \n",
    "#     c = subs[i].get_color()\n",
    "#     maxid = np.argmax(y) \n",
    "    \n",
    "#     plt.annotate(f'{nums[i]}', (x[maxid]-1, y[maxid]+0.0005), c=c, fontsize=30, ha='center', annotation_clip=False)\n",
    "\n",
    "# sns.move_legend(f, \"lower center\", ncol=2, bbox_to_anchor=(0.5, -0.6), title='', frameon=True, fontsize=22)\n",
    "# start = -10\n",
    "# end = 100\n",
    "# # plt.xlim(start, end)\n",
    "# xs = []\n",
    "# for i in range(start, end+10, 10):\n",
    "#     xs.append(i)\n",
    "# # xs = [0, 10, 20, 30, 40, 50, 60, 70, 80, 90, 100, 110, 120, 130, 140, 150]\n",
    "# plt.xticks(xs, fontsize=20)\n",
    "# plt.yticks(fontsize=20)\n",
    "# plt.ylabel('Density', fontsize=26, labelpad=24)\n",
    "# plt.xlabel('Similarity', fontsize=26, labelpad=24)\n",
    "# axes = plt.gca()\n",
    "# axes.spines[['top', 'right']].set_visible(False) \n",
    "# plt.savefig(f'similarity_densities{name}.pdf',bbox_inches='tight')"
   ]
  },
  {
   "cell_type": "code",
   "execution_count": 20,
   "id": "4388b6fc",
   "metadata": {},
   "outputs": [
    {
     "data": {
      "image/png": "[encoded data removed]",
      "text/plain": [
       "<Figure size 1080x360 with 1 Axes>"
      ]
     },
     "metadata": {},
     "output_type": "display_data"
    }
   ],
   "source": [
    "fig = plt.figure(figsize=(15, 5))\n",
    "sns.set_style(style='white')\n",
    "f = sns.boxplot(\n",
    "    data=df, x=\"Similarity score\", y=\"label\", hue=\"label\",\n",
    "    # common_norm=False, \n",
    "    legend=True,\n",
    "#     labels=['A', 'B', 'C', 'D'], \n",
    "#     linewidth=2.5, \n",
    "    palette=palette, \n",
    "#     log_scale=False,\n",
    ")\n",
    "handles, _ = f.get_legend_handles_labels()          # Get the artists.\n",
    "f.legend(handles, \n",
    "         [r'A: Familiar audio -- familiar image', r'B: Familiar audio -- familiar$^*$ image', \n",
    "          r'C: Novel audio -- novel image', r'D: Novel audio -- familiar image'], \n",
    "         loc=\"best\")\n",
    "# hatches = [\"o\", \"+\", \"o\", \"+\"]\n",
    "# for i, patch in enumerate(f.patches):\n",
    "#     patch.set_color('red')\n",
    "#     patch.set_facecolor('black')\n",
    "#     patch.set_fill(False)\n",
    "#     patch.set_hatch(hatches[i])\n",
    "\n",
    "# f.set(xticklabels=[])\n",
    "f.set(ylabel=None)\n",
    "plt.xticks(fontsize=20)\n",
    "plt.yticks(fontsize=20)\n",
    "plt.xlabel('Similarity scores', fontsize=20)\n",
    "plt.xlim(-20, 130)\n",
    "sns.move_legend(f, \"lower center\", ncol=2, bbox_to_anchor=(0.5, -0.5), title='', frameon=False, fontsize=22)\n",
    "axes = plt.gca()\n",
    "axes.spines[['top', 'right']].set_visible(False) \n",
    "plt.savefig(f'similarity_box_plots{name}.pdf',bbox_inches='tight')"
   ]
  },
  {
   "cell_type": "code",
   "execution_count": null,
   "id": "b08bd750",
   "metadata": {},
   "outputs": [],
   "source": []
  }
 ],
 "metadata": {
  "kernelspec": {
   "display_name": "Python 3 (ipykernel)",
   "language": "python",
   "name": "python3"
  },
  "language_info": {
   "codemirror_mode": {
    "name": "ipython",
    "version": 3
   },
   "file_extension": ".py",
   "mimetype": "text/x-python",
   "name": "python",
   "nbconvert_exporter": "python",
   "pygments_lexer": "ipython3",
   "version": "3.9.12"
  }
 },
 "nbformat": 4,
 "nbformat_minor": 5
}
