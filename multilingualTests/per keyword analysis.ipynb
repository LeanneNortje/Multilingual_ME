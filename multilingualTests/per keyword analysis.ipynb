{
 "cells": [
  {
   "cell_type": "code",
   "execution_count": 1,
   "id": "443f043f",
   "metadata": {},
   "outputs": [],
   "source": [
    "import csv\n",
    "import matplotlib.pyplot as plt\n",
    "import numpy as np\n",
    "from pathlib import Path"
   ]
  },
  {
   "cell_type": "code",
   "execution_count": 2,
   "id": "bfcaef84",
   "metadata": {},
   "outputs": [],
   "source": [
    "english_fn = f'../english/results/files/keyword_analysis_multiple.csv'\n",
    "dutch_english_fn = f'../dutch_english/results/files/keyword_analysis_multiple.csv'\n",
    "english_french_fn = f'../english_french/results/files/keyword_analysis_multiple.csv'\n",
    "dutch_english_french_fn = f'../dutch_english_french/results/files/keyword_analysis_multiple.csv'"
   ]
  },
  {
   "cell_type": "code",
   "execution_count": 3,
   "id": "5371024a",
   "metadata": {},
   "outputs": [
    {
     "data": {
      "image/png": "[encoded data removed]",
      "text/plain": [
       "<Figure size 1440x360 with 1 Axes>"
      ]
     },
     "metadata": {
      "needs_background": "light"
     },
     "output_type": "display_data"
    }
   ],
   "source": [
    "width = 1.0/6\n",
    "\n",
    "with open(english_fn) as csv_file:\n",
    "    data = []\n",
    "    data_labels = []\n",
    "    csv_reader = csv.reader(csv_file, delimiter='\\t')\n",
    "\n",
    "    for i, line in enumerate(csv_reader):\n",
    "        gt_word, pred_word, num_chosen, num_comparisons, percentage = line\n",
    "        if gt_word == pred_word:\n",
    "            data.append(float(percentage))\n",
    "            data_labels.append(gt_word)\n",
    "\n",
    "indices = list(np.argsort(data_labels))\n",
    "values = [data[i] for i in indices]\n",
    "labels = [data_labels[i] for i in indices]\n",
    "\n",
    "fig, ax = plt.subplots(figsize=(20, 5))\n",
    "\n",
    "y = np.arange(len(labels))\n",
    "ax.bar(y, np.asarray(values), width, align='center')\n",
    "\n",
    "\n",
    "\n",
    "with open(dutch_english_fn) as csv_file:\n",
    "    data = []\n",
    "    sub_labels = []\n",
    "    csv_reader = csv.reader(csv_file, delimiter='\\t')\n",
    "\n",
    "    for i, line in enumerate(csv_reader):\n",
    "        gt_word, pred_word, num_chosen, num_comparisons, percentage = line\n",
    "        if gt_word == pred_word:\n",
    "            data.append(float(percentage))\n",
    "            sub_labels.append(gt_word)\n",
    "\n",
    "indices = list(np.argsort(sub_labels))\n",
    "temp = [sub_labels[i] for i in indices]\n",
    "if temp != labels: print(\"Problem!\")\n",
    "values = [data[i] for i in indices]\n",
    "\n",
    "\n",
    "y = np.arange(len(labels)) + width\n",
    "ax.bar(y, np.asarray(values), width, align='center')\n",
    "\n",
    "\n",
    "\n",
    "with open(english_french_fn) as csv_file:\n",
    "    data = []\n",
    "    sub_labels = []\n",
    "    csv_reader = csv.reader(csv_file, delimiter='\\t')\n",
    "\n",
    "    for i, line in enumerate(csv_reader):\n",
    "        gt_word, pred_word, num_chosen, num_comparisons, percentage = line\n",
    "        if gt_word == pred_word:\n",
    "            data.append(float(percentage))\n",
    "            sub_labels.append(gt_word)\n",
    "\n",
    "indices = list(np.argsort(sub_labels))\n",
    "temp = [sub_labels[i] for i in indices]\n",
    "if temp != labels: print(\"Problem!\")\n",
    "values = [data[i] for i in indices]\n",
    "\n",
    "\n",
    "y = np.arange(len(labels)) + (2 * width)\n",
    "ax.bar(y, np.asarray(values), width, align='center')\n",
    "\n",
    "\n",
    "\n",
    "with open(dutch_english_french_fn) as csv_file:\n",
    "    data = []\n",
    "    sub_labels = []\n",
    "    csv_reader = csv.reader(csv_file, delimiter='\\t')\n",
    "\n",
    "    for i, line in enumerate(csv_reader):\n",
    "        gt_word, pred_word, num_chosen, num_comparisons, percentage = line\n",
    "        if gt_word == pred_word:\n",
    "            data.append(float(percentage))\n",
    "            sub_labels.append(gt_word)\n",
    "\n",
    "indices = list(np.argsort(sub_labels))\n",
    "temp = [sub_labels[i] for i in indices]\n",
    "if temp != labels: print(\"Problem!\")\n",
    "values = [data[i] for i in indices]\n",
    "\n",
    "\n",
    "y = np.arange(len(labels)) + (3 * width)\n",
    "ax.bar(y, np.asarray(values), width, align='center')\n",
    "\n",
    "y = np.arange(len(labels)) + (1.5*width) \n",
    "ax.set_xticks(y, labels=labels)\n",
    "ax.set_ylim(0, 100)\n",
    "\n",
    "plt.savefig(Path('results/figures/per_keyword_analysis.pdf'), bbox_inches='tight')\n",
    "plt.show()\n",
    "\n",
    "#     print(labels)\n",
    "#     print(values)"
   ]
  },
  {
   "cell_type": "markdown",
   "id": "be37460e",
   "metadata": {},
   "source": [
    "#### "
   ]
  },
  {
   "cell_type": "code",
   "execution_count": null,
   "id": "e161daa4",
   "metadata": {},
   "outputs": [],
   "source": []
  }
 ],
 "metadata": {
  "kernelspec": {
   "display_name": "Python 3 (ipykernel)",
   "language": "python",
   "name": "python3"
  },
  "language_info": {
   "codemirror_mode": {
    "name": "ipython",
    "version": 3
   },
   "file_extension": ".py",
   "mimetype": "text/x-python",
   "name": "python",
   "nbconvert_exporter": "python",
   "pygments_lexer": "ipython3",
   "version": "3.9.12"
  }
 },
 "nbformat": 4,
 "nbformat_minor": 5
}
