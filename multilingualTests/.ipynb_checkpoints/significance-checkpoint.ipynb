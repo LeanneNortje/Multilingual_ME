{
 "cells": [
  {
   "cell_type": "code",
   "execution_count": 1,
   "id": "c9f775e9",
   "metadata": {},
   "outputs": [],
   "source": [
    "import csv\n",
    "from pathlib import Path\n",
    "import csv"
   ]
  },
  {
   "cell_type": "code",
   "execution_count": 2,
   "id": "4148f62d",
   "metadata": {},
   "outputs": [],
   "source": [
    "english_base = Path(f'../english/results')\n",
    "english_dutch_base = Path(f'../bilingual_dutch_english_no_language_links/results')\n",
    "english_french_base = Path(f'../bilingual_english_french_no_language_links/results')\n",
    "english_dutch_french_base = Path(f'../trilingual_no_language_links/results')"
   ]
  },
  {
   "cell_type": "code",
   "execution_count": 3,
   "id": "f6ccd21c",
   "metadata": {},
   "outputs": [],
   "source": [
    "order = ['english(1)', 'english(2)', 'english(3)', \n",
    "         'dutch-english(1)', 'dutch-english(2)', 'dutch-english(3)', \n",
    "         'english-french(1)', 'english-french(2)', 'english-french(3)', \n",
    "         'dutch-english-french(1)', 'dutch-english-french(2)', 'dutch-english-french(3)'\n",
    "        ]\n",
    "\n",
    "def readIn(name):\n",
    "    \n",
    "    data = {}\n",
    "    \n",
    "    with open(english_base / Path(f'{name}.csv')) as csv_file:\n",
    "        \n",
    "        csv_reader = csv.reader(csv_file, delimiter=',')\n",
    "        \n",
    "        for i, line in enumerate(csv_reader):\n",
    "            if i != 0:\n",
    "                trial, audio_query, image_A, image_B, one = line\n",
    "                \n",
    "                if trial not in data: data[trial] = {}\n",
    "                if audio_query not in data[trial]: data[trial][audio_query] = {}\n",
    "                if image_A not in data[trial][audio_query]: data[trial][audio_query][image_A] = {}\n",
    "                if image_B not in data[trial][audio_query][image_A]: data[trial][audio_query][image_A][image_B] = {}\n",
    "                    \n",
    "                data[trial][audio_query][image_A][image_B]['english(1)'] = one\n",
    "#                 data[trial][audio_query][image_A][image_B]['english(2)'] = two\n",
    "#                 data[trial][audio_query][image_A][image_B]['english(3)'] = three\n",
    "#                 data[trial][audio_query][image_A][image_B]['english(4)'] = four\n",
    "#                 data[trial][audio_query][image_A][image_B]['english(5)'] = five\n",
    "                \n",
    "    \n",
    "    with open(english_dutch_french_base / Path(f'{name}.csv')) as csv_file:\n",
    "        \n",
    "        csv_reader = csv.reader(csv_file, delimiter=',')\n",
    "        \n",
    "        for i, line in enumerate(csv_reader):\n",
    "            if i != 0:\n",
    "                trial, audio_query, image_A, image_B, one = line\n",
    "                \n",
    "                data[trial][audio_query][image_A][image_B]['dutch-english-french(1)'] = one\n",
    "#                 data[trial][audio_query][image_A][image_B]['dutch-english-french(2)'] = two\n",
    "#                 data[trial][audio_query][image_A][image_B]['dutch-english-french(3)'] = three\n",
    "#                 data[trial][audio_query][image_A][image_B]['dutch-english-french(4)'] = four\n",
    "#                 data[trial][audio_query][image_A][image_B]['dutch-english-french(5)'] = five\n",
    "                \n",
    "    with open(english_dutch_base / Path(f'{name}.csv')) as csv_file:\n",
    "        \n",
    "        csv_reader = csv.reader(csv_file, delimiter=',')\n",
    "        \n",
    "        for i, line in enumerate(csv_reader):\n",
    "            if i != 0:\n",
    "                trial, audio_query, image_A, image_B, one = line\n",
    "                \n",
    "                data[trial][audio_query][image_A][image_B]['dutch-english(1)'] = one\n",
    "#                 data[trial][audio_query][image_A][image_B]['dutch-english(2)'] = two\n",
    "#                 data[trial][audio_query][image_A][image_B]['dutch-english(3)'] = three\n",
    "#                 data[trial][audio_query][image_A][image_B]['dutch-english(4)'] = four\n",
    "#                 data[trial][audio_query][image_A][image_B]['dutch-english(5)'] = five\n",
    "                \n",
    "    with open(english_french_base / Path(f'{name}.csv')) as csv_file:\n",
    "        \n",
    "        csv_reader = csv.reader(csv_file, delimiter=',')\n",
    "        \n",
    "        for i, line in enumerate(csv_reader):\n",
    "            if i != 0:\n",
    "                trial, audio_query, image_A, image_B, one = line\n",
    "                \n",
    "                data[trial][audio_query][image_A][image_B]['english-french(1)'] = one\n",
    "#                 data[trial][audio_query][image_A][image_B]['english-french(2)'] = two\n",
    "#                 data[trial][audio_query][image_A][image_B]['english-french(3)'] = three\n",
    "#                 data[trial][audio_query][image_A][image_B]['english-french(4)'] = four\n",
    "#                 data[trial][audio_query][image_A][image_B]['english-french(5)'] = five\n",
    "    \n",
    "    header = ['trial', 'audio_query', 'image_A', 'image_B']\n",
    "    header.extend(order)\n",
    "    \n",
    "    with open(f'results/{name}.csv', 'w', encoding='UTF8') as f:\n",
    "        writer = csv.writer(f)\n",
    "        writer.writerow(header)\n",
    "        for trial in data:\n",
    "            row = []\n",
    "            for query in data[trial]:\n",
    "                for imageA in data[trial][query]:\n",
    "                    for imageB in data[trial][query][imageA]:\n",
    "                        row.extend([trial,query,imageA, imageB])\n",
    "                        results = data[trial][query][imageA][imageB]\n",
    "                        for key in order:\n",
    "                            row.append(results[key])\n",
    "            writer.writerow(row)\n",
    "                        \n",
    "        "
   ]
  },
  {
   "cell_type": "code",
   "execution_count": 4,
   "id": "23fe94fc",
   "metadata": {},
   "outputs": [
    {
     "ename": "ValueError",
     "evalue": "not enough values to unpack (expected 7, got 5)",
     "output_type": "error",
     "traceback": [
      "\u001b[0;31m---------------------------------------------------------------------------\u001b[0m",
      "\u001b[0;31mValueError\u001b[0m                                Traceback (most recent call last)",
      "Input \u001b[0;32mIn [4]\u001b[0m, in \u001b[0;36m<cell line: 1>\u001b[0;34m()\u001b[0m\n\u001b[0;32m----> 1\u001b[0m \u001b[43mreadIn\u001b[49m\u001b[43m(\u001b[49m\u001b[38;5;124;43m'\u001b[39;49m\u001b[38;5;124;43msignificance_multiple\u001b[39;49m\u001b[38;5;124;43m'\u001b[39;49m\u001b[43m)\u001b[49m\n\u001b[1;32m      2\u001b[0m readIn(\u001b[38;5;124m'\u001b[39m\u001b[38;5;124msignificance_mismatched_ME_multiple\u001b[39m\u001b[38;5;124m'\u001b[39m)\n\u001b[1;32m      3\u001b[0m \u001b[38;5;66;03m# readIn('significance_novel_novel_tests_multiple')\u001b[39;00m\n",
      "Input \u001b[0;32mIn [3]\u001b[0m, in \u001b[0;36mreadIn\u001b[0;34m(name)\u001b[0m\n\u001b[1;32m     15\u001b[0m \u001b[38;5;28;01mfor\u001b[39;00m i, line \u001b[38;5;129;01min\u001b[39;00m \u001b[38;5;28menumerate\u001b[39m(csv_reader):\n\u001b[1;32m     16\u001b[0m     \u001b[38;5;28;01mif\u001b[39;00m i \u001b[38;5;241m!=\u001b[39m \u001b[38;5;241m0\u001b[39m:\n\u001b[0;32m---> 17\u001b[0m         trial, audio_query, image_A, image_B, one, two, three \u001b[38;5;241m=\u001b[39m line\n\u001b[1;32m     19\u001b[0m         \u001b[38;5;28;01mif\u001b[39;00m trial \u001b[38;5;129;01mnot\u001b[39;00m \u001b[38;5;129;01min\u001b[39;00m data: data[trial] \u001b[38;5;241m=\u001b[39m {}\n\u001b[1;32m     20\u001b[0m         \u001b[38;5;28;01mif\u001b[39;00m audio_query \u001b[38;5;129;01mnot\u001b[39;00m \u001b[38;5;129;01min\u001b[39;00m data[trial]: data[trial][audio_query] \u001b[38;5;241m=\u001b[39m {}\n",
      "\u001b[0;31mValueError\u001b[0m: not enough values to unpack (expected 7, got 5)"
     ]
    }
   ],
   "source": [
    "readIn('significance_multiple')\n",
    "readIn('significance_mismatched_ME_multiple')\n",
    "# readIn('significance_novel_novel_tests_multiple')\n",
    "readIn('significance_familiar_multiple')\n",
    "readIn('significance_known_vs_novel_multiple')"
   ]
  },
  {
   "cell_type": "code",
   "execution_count": null,
   "id": "ca6d7dba",
   "metadata": {},
   "outputs": [],
   "source": []
  }
 ],
 "metadata": {
  "kernelspec": {
   "display_name": "Python 3 (ipykernel)",
   "language": "python",
   "name": "python3"
  },
  "language_info": {
   "codemirror_mode": {
    "name": "ipython",
    "version": 3
   },
   "file_extension": ".py",
   "mimetype": "text/x-python",
   "name": "python",
   "nbconvert_exporter": "python",
   "pygments_lexer": "ipython3",
   "version": "3.9.12"
  }
 },
 "nbformat": 4,
 "nbformat_minor": 5
}
