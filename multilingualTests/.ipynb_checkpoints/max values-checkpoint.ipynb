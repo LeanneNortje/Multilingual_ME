{
 "cells": [
  {
   "cell_type": "code",
   "execution_count": 1,
   "id": "e9650099",
   "metadata": {},
   "outputs": [],
   "source": [
    "import numpy as np\n",
    "from pathlib import Path\n",
    "\n",
    "import pandas as pd\n",
    "import seaborn as sns\n",
    "import matplotlib.pyplot as plt\n",
    "from matplotlib.gridspec import GridSpec\n",
    "from matplotlib import cm\n",
    "\n",
    "import scipy\n",
    "import scipy.signal\n",
    "from scipy.spatial import distance\n",
    "import librosa\n",
    "import matplotlib.spines as spines\n",
    "import matplotlib.lines as lines\n",
    "import matplotlib.pyplot as plt\n",
    "\n",
    "import itertools\n",
    "import seaborn as sns"
   ]
  },
  {
   "cell_type": "code",
   "execution_count": 15,
   "id": "3c2a1af0",
   "metadata": {},
   "outputs": [
    {
     "name": "stdout",
     "output_type": "stream",
     "text": [
      "English\n",
      "{1: 67.56, 2: 70.28, 3: 70.28}\n",
      "Mean: 69.37\t STD: 1.28\n",
      "English+Dutch\n",
      "{1: 69.61, 2: 69.61, 3: 69.61}\n",
      "Mean: 69.61\t STD: 0.00\n",
      "English+French\n",
      "{1: 67.89, 2: 67.49, 3: 68.76}\n",
      "Mean: 68.05\t STD: 0.53\n",
      "English+French+Dutch\n",
      "{1: 69.86, 2: 73.48, 3: 71.53}\n",
      "Mean: 71.62\t STD: 1.48\n"
     ]
    }
   ],
   "source": [
    "m = 3\n",
    "def read_in(fn, base=False):\n",
    "    values = []\n",
    "    labels = []\n",
    "    temp = {}\n",
    "    if base:\n",
    "        with open(Path(f'{fn}.txt'), 'r') as f:\n",
    "            for n, line in enumerate(f):\n",
    "\n",
    "                parts = line.split()\n",
    "                score = round(float(parts[-1]), 2)\n",
    "                epoch = int(parts[0].split(':')[0])\n",
    "                if epoch not in temp: temp[epoch] = []\n",
    "                temp[epoch].append(score)\n",
    "    else:\n",
    "        for i in range(1, m+1):\n",
    "            with open(Path(f'{fn}_{str(i)}.txt'), 'r') as f:\n",
    "                for n, line in enumerate(f):\n",
    "\n",
    "                    parts = line.split()\n",
    "                    score = round(float(parts[-1]), 2)\n",
    "                    epoch = int(parts[0].split(':')[0])\n",
    "                    if epoch not in temp: temp[epoch] = []\n",
    "                    temp[epoch].append(score)\n",
    "                \n",
    "    max_values = {}\n",
    "    for epoch in temp:\n",
    "\n",
    "        score = np.mean(temp[epoch])\n",
    "        values.append(score)\n",
    "        labels.append(epoch)\n",
    "\n",
    "        for i in range(len(temp[epoch])):\n",
    "            if i+1 not in max_values: max_values[i+1] = temp[epoch][i]\n",
    "            elif temp[epoch][i] > max_values[i+1]: max_values[i+1] = temp[epoch][i]\n",
    "        \n",
    "        \n",
    "    print(max_values)\n",
    "    scores = []\n",
    "    for model in max_values: scores.append(max_values[model])\n",
    "    print(f'Mean: {np.mean(scores):.2f}\\t STD: {np.std(scores):.2f}')\n",
    "\n",
    "    return values, labels\n",
    "\n",
    "\n",
    "english_fn = f'../english/results/files/trajectory_cpc_alexnet'\n",
    "dutch_english_fn = f'../dutch_english/results/files/trajectory_cpc_alexnet'\n",
    "english_french_fn = f'../english_french/results/files/trajectory_cpc_alexnet'\n",
    "dutch_english_french_fn = f'../dutch_english_french/results/files/trajectory_cpc_alexnet'\n",
    "\n",
    "print('English')\n",
    "english_values, english_labels = read_in(english_fn)\n",
    "print('English+Dutch')\n",
    "dutch_english_values, dutch_english_labels = read_in(dutch_english_fn)\n",
    "print('English+French')\n",
    "english_french_values, english_french_labels = read_in(english_french_fn)\n",
    "print('English+French+Dutch')\n",
    "dutch_english_french_values, dutch_english_french_labels = read_in(dutch_english_french_fn)\n"
   ]
  },
  {
   "cell_type": "code",
   "execution_count": null,
   "id": "0e3c9d3e",
   "metadata": {},
   "outputs": [],
   "source": []
  }
 ],
 "metadata": {
  "kernelspec": {
   "display_name": "Python 3 (ipykernel)",
   "language": "python",
   "name": "python3"
  },
  "language_info": {
   "codemirror_mode": {
    "name": "ipython",
    "version": 3
   },
   "file_extension": ".py",
   "mimetype": "text/x-python",
   "name": "python",
   "nbconvert_exporter": "python",
   "pygments_lexer": "ipython3",
   "version": "3.9.12"
  }
 },
 "nbformat": 4,
 "nbformat_minor": 5
}
