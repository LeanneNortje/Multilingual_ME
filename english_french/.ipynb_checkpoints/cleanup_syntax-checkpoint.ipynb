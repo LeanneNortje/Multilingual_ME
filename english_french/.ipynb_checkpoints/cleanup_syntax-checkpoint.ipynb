{
 "cells": [
  {
   "cell_type": "code",
   "execution_count": 1,
   "id": "a46400c4",
   "metadata": {},
   "outputs": [],
   "source": [
    "from pathlib import Path\n",
    "import pickle"
   ]
  },
  {
   "cell_type": "code",
   "execution_count": 2,
   "id": "468866c2",
   "metadata": {},
   "outputs": [
    {
     "name": "stdout",
     "output_type": "stream",
     "text": [
      "model_metadata/6e31653348/1\n",
      "True\n",
      "model_metadata/6e31653348/2\n",
      "True\n",
      "model_metadata/6e31653348/5\n",
      "False\n",
      "model_metadata/6e31653348/4\n",
      "True\n",
      "model_metadata/6e31653348/3\n",
      "True\n"
     ]
    }
   ],
   "source": [
    "for args_fn in Path('model_metadata').rglob('*/args.pkl'):\n",
    "    with open(args_fn, \"rb\") as f:\n",
    "        args = pickle.load(f)\n",
    "        print(args[\"exp_dir\"])\n",
    "        print('instance' in args)\n",
    "        if 'instance' not in args: args['instance'] = int(args_fn.parent.stem)\n",
    "#             print('*')\n",
    "#         else: \n",
    "#             print(args_fn)\n",
    "#             print(args[\"instance\"])\n",
    "#         args[\"instance\"] = 1\n",
    "#         args[\"exp_dir\"] = base_dir / model_particulars / str(args[\"instance\"])\n",
    "#         print(args['exp_dir'])\n",
    "#         args[\"instance\"] = 1\n",
    "        with open(args[\"exp_dir\"] / \"args.pkl\", \"wb\") as f:\n",
    "            pickle.dump(args, f)"
   ]
  },
  {
   "cell_type": "code",
   "execution_count": null,
   "id": "3a98c8b9",
   "metadata": {},
   "outputs": [],
   "source": []
  }
 ],
 "metadata": {
  "kernelspec": {
   "display_name": "Python 3 (ipykernel)",
   "language": "python",
   "name": "python3"
  },
  "language_info": {
   "codemirror_mode": {
    "name": "ipython",
    "version": 3
   },
   "file_extension": ".py",
   "mimetype": "text/x-python",
   "name": "python",
   "nbconvert_exporter": "python",
   "pygments_lexer": "ipython3",
   "version": "3.9.12"
  }
 },
 "nbformat": 4,
 "nbformat_minor": 5
}
